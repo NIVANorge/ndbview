{
 "cells": [
  {
   "cell_type": "code",
   "execution_count": 1,
   "metadata": {},
   "outputs": [],
   "source": [
    "import sys\n",
    "import nivapy\n",
    "import qgrid\n",
    "import pandas as pd\n",
    "\n",
    "# Quick hack to import from relative folder\n",
    "sys.path.insert(0, '../ndbview')\n",
    "from ndbview import ndb_queries"
   ]
  },
  {
   "cell_type": "markdown",
   "metadata": {},
   "source": [
    "# Testing queries for NDBView\n",
    "\n",
    "`ndb_queries.py` contains functions used by the Flask end points in `ndbview.py` to query the NIVADATABASE. The code is structured so that, as far as possible, the application-specific code is all in `ndbview.py`, and `ndb_queries.py` provides a basic database API that can also be used from Jupyter. This is useful for testing, and will eventually be useful for [NivaPy](https://github.com/NIVANorge/nivapy) too.\n",
    "\n",
    "## 1. Connect to NIVADATABASE"
   ]
  },
  {
   "cell_type": "code",
   "execution_count": 2,
   "metadata": {},
   "outputs": [
    {
     "name": "stdout",
     "output_type": "stream",
     "text": [
      "Connection successful.\n"
     ]
    }
   ],
   "source": [
    "# Connect to db\n",
    "ora_eng = nivapy.da.connect()"
   ]
  },
  {
   "cell_type": "markdown",
   "metadata": {},
   "source": [
    "## 2. User defined parameters"
   ]
  },
  {
   "cell_type": "code",
   "execution_count": 3,
   "metadata": {},
   "outputs": [],
   "source": [
    "# Period of interest\n",
    "st_dt = '1900-01-01'\n",
    "end_dt = '2018-12-31'\n",
    "\n",
    "# Include LOD flags ('<' or '>') in output?\n",
    "lod_flags = False"
   ]
  },
  {
   "cell_type": "markdown",
   "metadata": {},
   "source": [
    "Now complete **either** step 3.1 to query by projects, or skip ahead to step 3.2 to query the stations directly. **Choose either step 3.1 *or* step 3.2, not both**.\n",
    "\n",
    "## 3.1. Query by project\n",
    "\n",
    "### 3.1.1. Select projects of interest"
   ]
  },
  {
   "cell_type": "code",
   "execution_count": 4,
   "metadata": {},
   "outputs": [
    {
     "data": {
      "application/vnd.jupyter.widget-view+json": {
       "model_id": "5d59eb9bc2954e728a27a3e99eba4df8",
       "version_major": 2,
       "version_minor": 0
      },
      "text/html": [
       "<p>Failed to display Jupyter Widget of type <code>QgridWidget</code>.</p>\n",
       "<p>\n",
       "  If you're reading this message in the Jupyter Notebook or JupyterLab Notebook, it may mean\n",
       "  that the widgets JavaScript is still loading. If this message persists, it\n",
       "  likely means that the widgets JavaScript library is either not installed or\n",
       "  not enabled. See the <a href=\"https://ipywidgets.readthedocs.io/en/stable/user_install.html\">Jupyter\n",
       "  Widgets Documentation</a> for setup instructions.\n",
       "</p>\n",
       "<p>\n",
       "  If you're reading this message in another frontend (for example, a static\n",
       "  rendering on GitHub or <a href=\"https://nbviewer.jupyter.org/\">NBViewer</a>),\n",
       "  it may mean that your frontend doesn't currently support widgets.\n",
       "</p>\n"
      ],
      "text/plain": [
       "QgridWidget(grid_options={'highlightSelectedRow': True, 'fullWidthRows': True, 'rowHeight': 28, 'enableColumnReorder': False, 'filterable': True, 'sortable': True, 'enableTextSelectionOnCells': True, 'editable': True, 'explicitInitialization': True, 'minVisibleRows': 8, 'autoEdit': False, 'syncColumnCellResize': True, 'maxVisibleRows': 15, 'defaultColumnWidth': 150, 'forceFitColumns': True, 'highlightSelectedCell': False}, precision=5)"
      ]
     },
     "metadata": {},
     "output_type": "display_data"
    }
   ],
   "source": [
    "# List projects\n",
    "prj_df = ndb_queries.get_all_projects(ora_eng)\n",
    "\n",
    "# Convert to qgrid\n",
    "prj_grid = qgrid.QgridWidget(df=prj_df, show_toolbar=False)\n",
    "prj_grid"
   ]
  },
  {
   "cell_type": "code",
   "execution_count": 5,
   "metadata": {},
   "outputs": [
    {
     "data": {
      "text/html": [
       "<div>\n",
       "<style scoped>\n",
       "    .dataframe tbody tr th:only-of-type {\n",
       "        vertical-align: middle;\n",
       "    }\n",
       "\n",
       "    .dataframe tbody tr th {\n",
       "        vertical-align: top;\n",
       "    }\n",
       "\n",
       "    .dataframe thead th {\n",
       "        text-align: right;\n",
       "    }\n",
       "</style>\n",
       "<table border=\"1\" class=\"dataframe\">\n",
       "  <thead>\n",
       "    <tr style=\"text-align: right;\">\n",
       "      <th></th>\n",
       "      <th>project_id</th>\n",
       "      <th>o_number</th>\n",
       "      <th>project_name</th>\n",
       "      <th>project_description</th>\n",
       "    </tr>\n",
       "  </thead>\n",
       "  <tbody>\n",
       "    <tr>\n",
       "      <th>118</th>\n",
       "      <td>3320</td>\n",
       "      <td>11488-03</td>\n",
       "      <td>RID- Hovedelver</td>\n",
       "      <td>None</td>\n",
       "    </tr>\n",
       "  </tbody>\n",
       "</table>\n",
       "</div>"
      ],
      "text/plain": [
       "     project_id  o_number     project_name project_description\n",
       "118        3320  11488-03  RID- Hovedelver                None"
      ]
     },
     "execution_count": 5,
     "metadata": {},
     "output_type": "execute_result"
    }
   ],
   "source": [
    "# Show selected projects\n",
    "sel_prj = prj_grid.get_selected_df()\n",
    "sel_prj"
   ]
  },
  {
   "cell_type": "markdown",
   "metadata": {},
   "source": [
    "### 3.1.2. Get stations for selected project(s)"
   ]
  },
  {
   "cell_type": "code",
   "execution_count": 6,
   "metadata": {},
   "outputs": [
    {
     "name": "stdout",
     "output_type": "stream",
     "text": [
      "Number of unique station IDs: 15\n"
     ]
    },
    {
     "data": {
      "application/vnd.jupyter.widget-view+json": {
       "model_id": "7f7ff8564b7a41339ed9e0f76a28a2c7",
       "version_major": 2,
       "version_minor": 0
      },
      "text/html": [
       "<p>Failed to display Jupyter Widget of type <code>QgridWidget</code>.</p>\n",
       "<p>\n",
       "  If you're reading this message in the Jupyter Notebook or JupyterLab Notebook, it may mean\n",
       "  that the widgets JavaScript is still loading. If this message persists, it\n",
       "  likely means that the widgets JavaScript library is either not installed or\n",
       "  not enabled. See the <a href=\"https://ipywidgets.readthedocs.io/en/stable/user_install.html\">Jupyter\n",
       "  Widgets Documentation</a> for setup instructions.\n",
       "</p>\n",
       "<p>\n",
       "  If you're reading this message in another frontend (for example, a static\n",
       "  rendering on GitHub or <a href=\"https://nbviewer.jupyter.org/\">NBViewer</a>),\n",
       "  it may mean that your frontend doesn't currently support widgets.\n",
       "</p>\n"
      ],
      "text/plain": [
       "QgridWidget(grid_options={'highlightSelectedRow': True, 'fullWidthRows': True, 'rowHeight': 28, 'enableColumnReorder': False, 'filterable': True, 'sortable': True, 'enableTextSelectionOnCells': True, 'editable': True, 'explicitInitialization': True, 'minVisibleRows': 8, 'autoEdit': False, 'syncColumnCellResize': True, 'maxVisibleRows': 15, 'defaultColumnWidth': 150, 'forceFitColumns': True, 'highlightSelectedCell': False}, precision=5)"
      ]
     },
     "metadata": {},
     "output_type": "display_data"
    }
   ],
   "source": [
    "# Get stations for selected project\n",
    "stn_df = ndb_queries.get_project_stations(sel_prj, ora_eng)\n",
    "\n",
    "# Convert to qgrid\n",
    "stn_grid = qgrid.QgridWidget(df=stn_df, show_toolbar=False)\n",
    "\n",
    "print 'Number of unique station IDs:', len(stn_df)\n",
    "stn_grid"
   ]
  },
  {
   "cell_type": "markdown",
   "metadata": {},
   "source": [
    "### 3.1.3. Refine station selection\n",
    "\n",
    "Make a final selection of the porjects of interest (or select none to include all stations for these projects)."
   ]
  },
  {
   "cell_type": "code",
   "execution_count": 7,
   "metadata": {},
   "outputs": [
    {
     "name": "stdout",
     "output_type": "stream",
     "text": [
      "Number of stations selected: 11\n"
     ]
    },
    {
     "data": {
      "text/html": [
       "<div>\n",
       "<style scoped>\n",
       "    .dataframe tbody tr th:only-of-type {\n",
       "        vertical-align: middle;\n",
       "    }\n",
       "\n",
       "    .dataframe tbody tr th {\n",
       "        vertical-align: top;\n",
       "    }\n",
       "\n",
       "    .dataframe thead th {\n",
       "        text-align: right;\n",
       "    }\n",
       "</style>\n",
       "<table border=\"1\" class=\"dataframe\">\n",
       "  <thead>\n",
       "    <tr style=\"text-align: right;\">\n",
       "      <th></th>\n",
       "      <th>station_id</th>\n",
       "      <th>station_code</th>\n",
       "      <th>station_name</th>\n",
       "      <th>station_type</th>\n",
       "      <th>longitude</th>\n",
       "      <th>latitude</th>\n",
       "    </tr>\n",
       "  </thead>\n",
       "  <tbody>\n",
       "    <tr>\n",
       "      <th>1</th>\n",
       "      <td>40353</td>\n",
       "      <td>TELESKI</td>\n",
       "      <td>Skienselva</td>\n",
       "      <td>Elv</td>\n",
       "      <td>9.611000</td>\n",
       "      <td>59.199000</td>\n",
       "    </tr>\n",
       "    <tr>\n",
       "      <th>2</th>\n",
       "      <td>40354</td>\n",
       "      <td>VAGEOTR</td>\n",
       "      <td>Otra</td>\n",
       "      <td>Elv</td>\n",
       "      <td>7.953984</td>\n",
       "      <td>58.186992</td>\n",
       "    </tr>\n",
       "    <tr>\n",
       "      <th>3</th>\n",
       "      <td>40355</td>\n",
       "      <td>VESENUM</td>\n",
       "      <td>Numedalslågen</td>\n",
       "      <td>Elv</td>\n",
       "      <td>10.070000</td>\n",
       "      <td>59.086000</td>\n",
       "    </tr>\n",
       "    <tr>\n",
       "      <th>4</th>\n",
       "      <td>40356</td>\n",
       "      <td>Glomma5</td>\n",
       "      <td>Sarpefossen</td>\n",
       "      <td>Elv</td>\n",
       "      <td>11.134000</td>\n",
       "      <td>59.278000</td>\n",
       "    </tr>\n",
       "    <tr>\n",
       "      <th>6</th>\n",
       "      <td>40357</td>\n",
       "      <td>STREORK</td>\n",
       "      <td>Orkla</td>\n",
       "      <td>Elv</td>\n",
       "      <td>9.772994</td>\n",
       "      <td>63.200996</td>\n",
       "    </tr>\n",
       "    <tr>\n",
       "      <th>7</th>\n",
       "      <td>40358</td>\n",
       "      <td>FINEALT</td>\n",
       "      <td>Altaelva</td>\n",
       "      <td>Elv</td>\n",
       "      <td>23.286977</td>\n",
       "      <td>69.900992</td>\n",
       "    </tr>\n",
       "    <tr>\n",
       "      <th>8</th>\n",
       "      <td>40360</td>\n",
       "      <td>NOREVEF</td>\n",
       "      <td>Vefsna</td>\n",
       "      <td>Elv</td>\n",
       "      <td>13.238980</td>\n",
       "      <td>65.748998</td>\n",
       "    </tr>\n",
       "    <tr>\n",
       "      <th>9</th>\n",
       "      <td>40361</td>\n",
       "      <td>ROGEORR</td>\n",
       "      <td>Orreelva</td>\n",
       "      <td>Elv</td>\n",
       "      <td>5.528989</td>\n",
       "      <td>58.730993</td>\n",
       "    </tr>\n",
       "    <tr>\n",
       "      <th>10</th>\n",
       "      <td>40374</td>\n",
       "      <td>HOREVOS</td>\n",
       "      <td>Vosso(Bolstadelvi)</td>\n",
       "      <td>Elv</td>\n",
       "      <td>6.000000</td>\n",
       "      <td>60.647992</td>\n",
       "    </tr>\n",
       "    <tr>\n",
       "      <th>11</th>\n",
       "      <td>62167</td>\n",
       "      <td>OSLEALN</td>\n",
       "      <td>Alna</td>\n",
       "      <td>Elv</td>\n",
       "      <td>10.791359</td>\n",
       "      <td>59.905091</td>\n",
       "    </tr>\n",
       "    <tr>\n",
       "      <th>0</th>\n",
       "      <td>40352</td>\n",
       "      <td>BUSEDRA</td>\n",
       "      <td>Drammenselva</td>\n",
       "      <td>Elv</td>\n",
       "      <td>10.008990</td>\n",
       "      <td>59.753990</td>\n",
       "    </tr>\n",
       "  </tbody>\n",
       "</table>\n",
       "</div>"
      ],
      "text/plain": [
       "    station_id station_code        station_name station_type  longitude  \\\n",
       "1        40353      TELESKI          Skienselva          Elv   9.611000   \n",
       "2        40354      VAGEOTR                Otra          Elv   7.953984   \n",
       "3        40355      VESENUM       Numedalslågen          Elv  10.070000   \n",
       "4        40356      Glomma5         Sarpefossen          Elv  11.134000   \n",
       "6        40357      STREORK               Orkla          Elv   9.772994   \n",
       "7        40358      FINEALT            Altaelva          Elv  23.286977   \n",
       "8        40360      NOREVEF              Vefsna          Elv  13.238980   \n",
       "9        40361      ROGEORR            Orreelva          Elv   5.528989   \n",
       "10       40374      HOREVOS  Vosso(Bolstadelvi)          Elv   6.000000   \n",
       "11       62167      OSLEALN                Alna          Elv  10.791359   \n",
       "0        40352      BUSEDRA        Drammenselva          Elv  10.008990   \n",
       "\n",
       "     latitude  \n",
       "1   59.199000  \n",
       "2   58.186992  \n",
       "3   59.086000  \n",
       "4   59.278000  \n",
       "6   63.200996  \n",
       "7   69.900992  \n",
       "8   65.748998  \n",
       "9   58.730993  \n",
       "10  60.647992  \n",
       "11  59.905091  \n",
       "0   59.753990  "
      ]
     },
     "execution_count": 7,
     "metadata": {},
     "output_type": "execute_result"
    }
   ],
   "source": [
    "# Get selected stations\n",
    "if len(stn_grid.get_selected_df()) == 0:\n",
    "    sel_stn = stn_df\n",
    "else:\n",
    "    sel_stn = stn_grid.get_selected_df()\n",
    "\n",
    "print 'Number of stations selected:', len(sel_stn)\n",
    "sel_stn"
   ]
  },
  {
   "cell_type": "markdown",
   "metadata": {},
   "source": [
    "## 3.2. Select stations directly"
   ]
  },
  {
   "cell_type": "code",
   "execution_count": null,
   "metadata": {},
   "outputs": [],
   "source": [
    "# List stations\n",
    "stn_df = ndb_queries.get_all_stations(ora_eng)\n",
    "\n",
    "# Convert to qgrid\n",
    "stn_grid = qgrid.QgridWidget(df=stn_df, show_toolbar=False)\n",
    "stn_grid"
   ]
  },
  {
   "cell_type": "code",
   "execution_count": null,
   "metadata": {},
   "outputs": [],
   "source": [
    "# Show selected projects\n",
    "sel_stn = stn_grid.get_selected_df()\n",
    "sel_stn"
   ]
  },
  {
   "cell_type": "markdown",
   "metadata": {},
   "source": [
    "## 4. Get parameters for selected stations and time period"
   ]
  },
  {
   "cell_type": "code",
   "execution_count": 8,
   "metadata": {},
   "outputs": [
    {
     "name": "stdout",
     "output_type": "stream",
     "text": [
      "66 parameters available.\n"
     ]
    },
    {
     "data": {
      "application/vnd.jupyter.widget-view+json": {
       "model_id": "44e6ab70512d4be6803b9e99d2b07739",
       "version_major": 2,
       "version_minor": 0
      },
      "text/html": [
       "<p>Failed to display Jupyter Widget of type <code>QgridWidget</code>.</p>\n",
       "<p>\n",
       "  If you're reading this message in the Jupyter Notebook or JupyterLab Notebook, it may mean\n",
       "  that the widgets JavaScript is still loading. If this message persists, it\n",
       "  likely means that the widgets JavaScript library is either not installed or\n",
       "  not enabled. See the <a href=\"https://ipywidgets.readthedocs.io/en/stable/user_install.html\">Jupyter\n",
       "  Widgets Documentation</a> for setup instructions.\n",
       "</p>\n",
       "<p>\n",
       "  If you're reading this message in another frontend (for example, a static\n",
       "  rendering on GitHub or <a href=\"https://nbviewer.jupyter.org/\">NBViewer</a>),\n",
       "  it may mean that your frontend doesn't currently support widgets.\n",
       "</p>\n"
      ],
      "text/plain": [
       "QgridWidget(grid_options={'highlightSelectedRow': True, 'fullWidthRows': True, 'rowHeight': 28, 'enableColumnReorder': False, 'filterable': True, 'sortable': True, 'enableTextSelectionOnCells': True, 'editable': True, 'explicitInitialization': True, 'minVisibleRows': 8, 'autoEdit': False, 'syncColumnCellResize': True, 'maxVisibleRows': 15, 'defaultColumnWidth': 150, 'forceFitColumns': True, 'highlightSelectedCell': False}, precision=5)"
      ]
     },
     "metadata": {},
     "output_type": "display_data"
    }
   ],
   "source": [
    "# Get parameters\n",
    "par_df = ndb_queries.get_station_parameters2(sel_stn, st_dt, end_dt, ora_eng)\n",
    "\n",
    "# Convert to qgrid\n",
    "par_grid = qgrid.QgridWidget(df=par_df, show_toolbar=False)\n",
    "\n",
    "print '%s parameters available.' % len(par_df)\n",
    "par_grid"
   ]
  },
  {
   "cell_type": "code",
   "execution_count": 9,
   "metadata": {},
   "outputs": [
    {
     "data": {
      "text/html": [
       "<div>\n",
       "<style scoped>\n",
       "    .dataframe tbody tr th:only-of-type {\n",
       "        vertical-align: middle;\n",
       "    }\n",
       "\n",
       "    .dataframe tbody tr th {\n",
       "        vertical-align: top;\n",
       "    }\n",
       "\n",
       "    .dataframe thead th {\n",
       "        text-align: right;\n",
       "    }\n",
       "</style>\n",
       "<table border=\"1\" class=\"dataframe\">\n",
       "  <thead>\n",
       "    <tr style=\"text-align: right;\">\n",
       "      <th></th>\n",
       "      <th>parameter_id</th>\n",
       "      <th>parameter_name</th>\n",
       "      <th>unit</th>\n",
       "    </tr>\n",
       "  </thead>\n",
       "  <tbody>\n",
       "    <tr>\n",
       "      <th>55</th>\n",
       "      <td>9</td>\n",
       "      <td>TOTN</td>\n",
       "      <td>µg/l</td>\n",
       "    </tr>\n",
       "    <tr>\n",
       "      <th>57</th>\n",
       "      <td>11</td>\n",
       "      <td>TOTP</td>\n",
       "      <td>µg/l</td>\n",
       "    </tr>\n",
       "  </tbody>\n",
       "</table>\n",
       "</div>"
      ],
      "text/plain": [
       "    parameter_id parameter_name  unit\n",
       "55             9           TOTN  µg/l\n",
       "57            11           TOTP  µg/l"
      ]
     },
     "execution_count": 9,
     "metadata": {},
     "output_type": "execute_result"
    }
   ],
   "source": [
    "# Show selected parameters\n",
    "sel_par = par_grid.get_selected_df()\n",
    "sel_par"
   ]
  },
  {
   "cell_type": "markdown",
   "metadata": {},
   "source": [
    "## 5. Get water chemistry"
   ]
  },
  {
   "cell_type": "code",
   "execution_count": 10,
   "metadata": {},
   "outputs": [
    {
     "name": "stdout",
     "output_type": "stream",
     "text": [
      "Number of duplicated records: 0\n",
      "Number of unique samples: 3516\n"
     ]
    }
   ],
   "source": [
    "# Get water chemsitry\n",
    "wc_df, dup_df = ndb_queries.get_chemistry_values2(sel_stn, sel_par, \n",
    "                                                  st_dt, end_dt, \n",
    "                                                  lod_flags, ora_eng)\n",
    "\n",
    "print 'Number of duplicated records:', len(dup_df)\n",
    "print 'Number of unique samples:', len(wc_df)"
   ]
  },
  {
   "cell_type": "code",
   "execution_count": null,
   "metadata": {},
   "outputs": [],
   "source": [
    "# Convert duplicates to qgrid\n",
    "dup_grid = qgrid.QgridWidget(df=dup_df, show_toolbar=False)\n",
    "dup_grid"
   ]
  },
  {
   "cell_type": "code",
   "execution_count": 11,
   "metadata": {},
   "outputs": [
    {
     "data": {
      "application/vnd.jupyter.widget-view+json": {
       "model_id": "00c7f7b841904769a1ed937a583f6847",
       "version_major": 2,
       "version_minor": 0
      },
      "text/html": [
       "<p>Failed to display Jupyter Widget of type <code>QgridWidget</code>.</p>\n",
       "<p>\n",
       "  If you're reading this message in the Jupyter Notebook or JupyterLab Notebook, it may mean\n",
       "  that the widgets JavaScript is still loading. If this message persists, it\n",
       "  likely means that the widgets JavaScript library is either not installed or\n",
       "  not enabled. See the <a href=\"https://ipywidgets.readthedocs.io/en/stable/user_install.html\">Jupyter\n",
       "  Widgets Documentation</a> for setup instructions.\n",
       "</p>\n",
       "<p>\n",
       "  If you're reading this message in another frontend (for example, a static\n",
       "  rendering on GitHub or <a href=\"https://nbviewer.jupyter.org/\">NBViewer</a>),\n",
       "  it may mean that your frontend doesn't currently support widgets.\n",
       "</p>\n"
      ],
      "text/plain": [
       "QgridWidget(grid_options={'highlightSelectedRow': True, 'fullWidthRows': True, 'rowHeight': 28, 'enableColumnReorder': False, 'filterable': True, 'sortable': True, 'enableTextSelectionOnCells': True, 'editable': True, 'explicitInitialization': True, 'minVisibleRows': 8, 'autoEdit': False, 'syncColumnCellResize': True, 'maxVisibleRows': 15, 'defaultColumnWidth': 150, 'forceFitColumns': True, 'highlightSelectedCell': False}, precision=5)"
      ]
     },
     "metadata": {},
     "output_type": "display_data"
    }
   ],
   "source": [
    "# Convert chem to qgrid\n",
    "wc_grid = qgrid.QgridWidget(df=wc_df, show_toolbar=False)\n",
    "wc_grid"
   ]
  }
 ],
 "metadata": {
  "kernelspec": {
   "display_name": "Python 2",
   "language": "python",
   "name": "python2"
  },
  "language_info": {
   "codemirror_mode": {
    "name": "ipython",
    "version": 2
   },
   "file_extension": ".py",
   "mimetype": "text/x-python",
   "name": "python",
   "nbconvert_exporter": "python",
   "pygments_lexer": "ipython2",
   "version": "2.7.14"
  }
 },
 "nbformat": 4,
 "nbformat_minor": 2
}
