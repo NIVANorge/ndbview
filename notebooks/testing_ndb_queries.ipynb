{
 "cells": [
  {
   "cell_type": "code",
   "execution_count": 1,
   "metadata": {},
   "outputs": [],
   "source": [
    "import sys\n",
    "import nivapy\n",
    "import qgrid\n",
    "import pandas as pd\n",
    "\n",
    "# Quick hack to import from relative folder\n",
    "sys.path.insert(0, '../ndbview')\n",
    "from ndbview import ndb_queries"
   ]
  },
  {
   "cell_type": "code",
   "execution_count": 2,
   "metadata": {},
   "outputs": [
    {
     "name": "stdout",
     "output_type": "stream",
     "text": [
      "Connection successful.\n"
     ]
    }
   ],
   "source": [
    "# Connect to db\n",
    "ora_eng = nivapy.da.connect()"
   ]
  },
  {
   "cell_type": "code",
   "execution_count": 3,
   "metadata": {},
   "outputs": [
    {
     "data": {
      "application/vnd.jupyter.widget-view+json": {
       "model_id": "88c0db8030f9427f8f50b7d943882125",
       "version_major": 2,
       "version_minor": 0
      },
      "text/html": [
       "<p>Failed to display Jupyter Widget of type <code>QgridWidget</code>.</p>\n",
       "<p>\n",
       "  If you're reading this message in the Jupyter Notebook or JupyterLab Notebook, it may mean\n",
       "  that the widgets JavaScript is still loading. If this message persists, it\n",
       "  likely means that the widgets JavaScript library is either not installed or\n",
       "  not enabled. See the <a href=\"https://ipywidgets.readthedocs.io/en/stable/user_install.html\">Jupyter\n",
       "  Widgets Documentation</a> for setup instructions.\n",
       "</p>\n",
       "<p>\n",
       "  If you're reading this message in another frontend (for example, a static\n",
       "  rendering on GitHub or <a href=\"https://nbviewer.jupyter.org/\">NBViewer</a>),\n",
       "  it may mean that your frontend doesn't currently support widgets.\n",
       "</p>\n"
      ],
      "text/plain": [
       "QgridWidget(grid_options={'highlightSelectedRow': True, 'fullWidthRows': True, 'rowHeight': 28, 'enableColumnReorder': False, 'filterable': True, 'sortable': True, 'enableTextSelectionOnCells': True, 'editable': True, 'explicitInitialization': True, 'minVisibleRows': 8, 'autoEdit': False, 'syncColumnCellResize': True, 'maxVisibleRows': 15, 'defaultColumnWidth': 150, 'forceFitColumns': True, 'highlightSelectedCell': False}, precision=5)"
      ]
     },
     "metadata": {},
     "output_type": "display_data"
    }
   ],
   "source": [
    "# List projects\n",
    "prj_df = ndb_queries.get_all_projects(ora_eng)\n",
    "\n",
    "# Convert to qgrid\n",
    "prj_grid = qgrid.QgridWidget(df=prj_df, show_toolbar=False)\n",
    "prj_grid"
   ]
  },
  {
   "cell_type": "code",
   "execution_count": 4,
   "metadata": {},
   "outputs": [
    {
     "data": {
      "text/html": [
       "<div>\n",
       "<style scoped>\n",
       "    .dataframe tbody tr th:only-of-type {\n",
       "        vertical-align: middle;\n",
       "    }\n",
       "\n",
       "    .dataframe tbody tr th {\n",
       "        vertical-align: top;\n",
       "    }\n",
       "\n",
       "    .dataframe thead th {\n",
       "        text-align: right;\n",
       "    }\n",
       "</style>\n",
       "<table border=\"1\" class=\"dataframe\">\n",
       "  <thead>\n",
       "    <tr style=\"text-align: right;\">\n",
       "      <th></th>\n",
       "      <th>project_id</th>\n",
       "      <th>o_number</th>\n",
       "      <th>project_name</th>\n",
       "      <th>project_description</th>\n",
       "    </tr>\n",
       "  </thead>\n",
       "  <tbody>\n",
       "    <tr>\n",
       "      <th>4</th>\n",
       "      <td>94</td>\n",
       "      <td>25186</td>\n",
       "      <td>VIV</td>\n",
       "      <td>Data til Vestfold Interkommunale vannverk</td>\n",
       "    </tr>\n",
       "    <tr>\n",
       "      <th>5</th>\n",
       "      <td>95</td>\n",
       "      <td>26069</td>\n",
       "      <td>Glomma</td>\n",
       "      <td>Visning av Glomma data</td>\n",
       "    </tr>\n",
       "    <tr>\n",
       "      <th>6</th>\n",
       "      <td>96</td>\n",
       "      <td>12019 08</td>\n",
       "      <td>Borrevannet</td>\n",
       "      <td>Overvåking av Borrevannet og Adalstjern i Hort...</td>\n",
       "    </tr>\n",
       "    <tr>\n",
       "      <th>7</th>\n",
       "      <td>96</td>\n",
       "      <td>11025 03</td>\n",
       "      <td>Borrevannet</td>\n",
       "      <td>Overvåking av Borrevannet og Adalstjern i Hort...</td>\n",
       "    </tr>\n",
       "    <tr>\n",
       "      <th>3</th>\n",
       "      <td>91</td>\n",
       "      <td>14052</td>\n",
       "      <td>Oslofjord</td>\n",
       "      <td>Målinger i indre Oslofjord</td>\n",
       "    </tr>\n",
       "  </tbody>\n",
       "</table>\n",
       "</div>"
      ],
      "text/plain": [
       "   project_id  o_number project_name  \\\n",
       "4          94     25186          VIV   \n",
       "5          95     26069       Glomma   \n",
       "6          96  12019 08  Borrevannet   \n",
       "7          96  11025 03  Borrevannet   \n",
       "3          91     14052    Oslofjord   \n",
       "\n",
       "                                 project_description  \n",
       "4          Data til Vestfold Interkommunale vannverk  \n",
       "5                             Visning av Glomma data  \n",
       "6  Overvåking av Borrevannet og Adalstjern i Hort...  \n",
       "7  Overvåking av Borrevannet og Adalstjern i Hort...  \n",
       "3                         Målinger i indre Oslofjord  "
      ]
     },
     "execution_count": 4,
     "metadata": {},
     "output_type": "execute_result"
    }
   ],
   "source": [
    "# Show selected projects\n",
    "sel_prj = prj_grid.get_selected_df()\n",
    "sel_prj"
   ]
  },
  {
   "cell_type": "code",
   "execution_count": 5,
   "metadata": {},
   "outputs": [
    {
     "name": "stdout",
     "output_type": "stream",
     "text": [
      "40\n"
     ]
    },
    {
     "data": {
      "application/vnd.jupyter.widget-view+json": {
       "model_id": "230c948450634544ae2620bb87bdf2c0",
       "version_major": 2,
       "version_minor": 0
      },
      "text/html": [
       "<p>Failed to display Jupyter Widget of type <code>QgridWidget</code>.</p>\n",
       "<p>\n",
       "  If you're reading this message in the Jupyter Notebook or JupyterLab Notebook, it may mean\n",
       "  that the widgets JavaScript is still loading. If this message persists, it\n",
       "  likely means that the widgets JavaScript library is either not installed or\n",
       "  not enabled. See the <a href=\"https://ipywidgets.readthedocs.io/en/stable/user_install.html\">Jupyter\n",
       "  Widgets Documentation</a> for setup instructions.\n",
       "</p>\n",
       "<p>\n",
       "  If you're reading this message in another frontend (for example, a static\n",
       "  rendering on GitHub or <a href=\"https://nbviewer.jupyter.org/\">NBViewer</a>),\n",
       "  it may mean that your frontend doesn't currently support widgets.\n",
       "</p>\n"
      ],
      "text/plain": [
       "QgridWidget(grid_options={'highlightSelectedRow': True, 'fullWidthRows': True, 'rowHeight': 28, 'enableColumnReorder': False, 'filterable': True, 'sortable': True, 'enableTextSelectionOnCells': True, 'editable': True, 'explicitInitialization': True, 'minVisibleRows': 8, 'autoEdit': False, 'syncColumnCellResize': True, 'maxVisibleRows': 15, 'defaultColumnWidth': 150, 'forceFitColumns': True, 'highlightSelectedCell': False}, precision=5)"
      ]
     },
     "metadata": {},
     "output_type": "display_data"
    }
   ],
   "source": [
    "# Get stations\n",
    "stn_df = ndb_queries.get_project_stations(sel_prj, ora_eng)\n",
    "\n",
    "# Convert to qgrid\n",
    "stn_grid = qgrid.QgridWidget(df=stn_df, show_toolbar=False)\n",
    "\n",
    "print len(stn_df)\n",
    "stn_grid"
   ]
  },
  {
   "cell_type": "code",
   "execution_count": 6,
   "metadata": {},
   "outputs": [
    {
     "data": {
      "application/vnd.jupyter.widget-view+json": {
       "model_id": "0e156a286e0b48eaad6869375d4f85e0",
       "version_major": 2,
       "version_minor": 0
      },
      "text/html": [
       "<p>Failed to display Jupyter Widget of type <code>QgridWidget</code>.</p>\n",
       "<p>\n",
       "  If you're reading this message in the Jupyter Notebook or JupyterLab Notebook, it may mean\n",
       "  that the widgets JavaScript is still loading. If this message persists, it\n",
       "  likely means that the widgets JavaScript library is either not installed or\n",
       "  not enabled. See the <a href=\"https://ipywidgets.readthedocs.io/en/stable/user_install.html\">Jupyter\n",
       "  Widgets Documentation</a> for setup instructions.\n",
       "</p>\n",
       "<p>\n",
       "  If you're reading this message in another frontend (for example, a static\n",
       "  rendering on GitHub or <a href=\"https://nbviewer.jupyter.org/\">NBViewer</a>),\n",
       "  it may mean that your frontend doesn't currently support widgets.\n",
       "</p>\n"
      ],
      "text/plain": [
       "QgridWidget(grid_options={'highlightSelectedRow': True, 'fullWidthRows': True, 'rowHeight': 28, 'enableColumnReorder': False, 'filterable': True, 'sortable': True, 'enableTextSelectionOnCells': True, 'editable': True, 'explicitInitialization': True, 'minVisibleRows': 8, 'autoEdit': False, 'syncColumnCellResize': True, 'maxVisibleRows': 15, 'defaultColumnWidth': 150, 'forceFitColumns': True, 'highlightSelectedCell': False}, precision=5)"
      ]
     },
     "metadata": {},
     "output_type": "display_data"
    }
   ],
   "source": [
    "# Get parameters\n",
    "par_df = ndb_queries.get_station_parameters(stn_df, ora_eng)\n",
    "\n",
    "# Convert to qgrid\n",
    "par_grid = qgrid.QgridWidget(df=par_df, show_toolbar=False)\n",
    "par_grid"
   ]
  },
  {
   "cell_type": "code",
   "execution_count": 7,
   "metadata": {},
   "outputs": [
    {
     "data": {
      "text/html": [
       "<div>\n",
       "<style scoped>\n",
       "    .dataframe tbody tr th:only-of-type {\n",
       "        vertical-align: middle;\n",
       "    }\n",
       "\n",
       "    .dataframe tbody tr th {\n",
       "        vertical-align: top;\n",
       "    }\n",
       "\n",
       "    .dataframe thead th {\n",
       "        text-align: right;\n",
       "    }\n",
       "</style>\n",
       "<table border=\"1\" class=\"dataframe\">\n",
       "  <thead>\n",
       "    <tr style=\"text-align: right;\">\n",
       "      <th></th>\n",
       "      <th>parameter_id</th>\n",
       "      <th>parameter_name</th>\n",
       "      <th>unit</th>\n",
       "    </tr>\n",
       "  </thead>\n",
       "  <tbody>\n",
       "    <tr>\n",
       "      <th>5</th>\n",
       "      <td>221</td>\n",
       "      <td>Cd</td>\n",
       "      <td>µg/l</td>\n",
       "    </tr>\n",
       "    <tr>\n",
       "      <th>6</th>\n",
       "      <td>6</td>\n",
       "      <td>Cl</td>\n",
       "      <td>mg/L</td>\n",
       "    </tr>\n",
       "    <tr>\n",
       "      <th>7</th>\n",
       "      <td>382</td>\n",
       "      <td>CODMn</td>\n",
       "      <td>mg O/l</td>\n",
       "    </tr>\n",
       "    <tr>\n",
       "      <th>8</th>\n",
       "      <td>629</td>\n",
       "      <td>Cr</td>\n",
       "      <td>µg/l</td>\n",
       "    </tr>\n",
       "    <tr>\n",
       "      <th>9</th>\n",
       "      <td>610</td>\n",
       "      <td>Cu</td>\n",
       "      <td>µg/L</td>\n",
       "    </tr>\n",
       "    <tr>\n",
       "      <th>10</th>\n",
       "      <td>492</td>\n",
       "      <td>Cu</td>\n",
       "      <td>mg/l</td>\n",
       "    </tr>\n",
       "    <tr>\n",
       "      <th>4</th>\n",
       "      <td>1</td>\n",
       "      <td>Ca</td>\n",
       "      <td>mg/L</td>\n",
       "    </tr>\n",
       "  </tbody>\n",
       "</table>\n",
       "</div>"
      ],
      "text/plain": [
       "    parameter_id parameter_name    unit\n",
       "5            221             Cd    µg/l\n",
       "6              6             Cl    mg/L\n",
       "7            382          CODMn  mg O/l\n",
       "8            629             Cr    µg/l\n",
       "9            610             Cu    µg/L\n",
       "10           492             Cu    mg/l\n",
       "4              1             Ca    mg/L"
      ]
     },
     "execution_count": 7,
     "metadata": {},
     "output_type": "execute_result"
    }
   ],
   "source": [
    "# Show selected parameters\n",
    "sel_par = par_grid.get_selected_df()\n",
    "sel_par"
   ]
  },
  {
   "cell_type": "code",
   "execution_count": 8,
   "metadata": {},
   "outputs": [
    {
     "name": "stdout",
     "output_type": "stream",
     "text": [
      "    WARNING\n",
      "    The database contains duplicated values for some station-date-parameter combinations.\n",
      "    Only the most recent values will be used, but you should check the repeated values are not errors.\n",
      "    The duplicated entries are returned in a separate dataframe.\n",
      "\n",
      "4\n",
      "140\n"
     ]
    }
   ],
   "source": [
    "# User options\n",
    "st_dt = '1990-01-01'\n",
    "end_dt = '2017-12-31'\n",
    "lod_flags = False\n",
    "\n",
    "# Get water chemsitry\n",
    "wc_df, dup_df = ndb_queries.get_chemistry_values(stn_df, sel_par, \n",
    "                                                 st_dt, end_dt, \n",
    "                                                 lod_flags, ora_eng)\n",
    "\n",
    "print len(dup_df)\n",
    "print len(wc_df)"
   ]
  },
  {
   "cell_type": "code",
   "execution_count": 9,
   "metadata": {},
   "outputs": [
    {
     "data": {
      "application/vnd.jupyter.widget-view+json": {
       "model_id": "936f3a80a56d4881ad18ab3c54df5d39",
       "version_major": 2,
       "version_minor": 0
      },
      "text/html": [
       "<p>Failed to display Jupyter Widget of type <code>QgridWidget</code>.</p>\n",
       "<p>\n",
       "  If you're reading this message in the Jupyter Notebook or JupyterLab Notebook, it may mean\n",
       "  that the widgets JavaScript is still loading. If this message persists, it\n",
       "  likely means that the widgets JavaScript library is either not installed or\n",
       "  not enabled. See the <a href=\"https://ipywidgets.readthedocs.io/en/stable/user_install.html\">Jupyter\n",
       "  Widgets Documentation</a> for setup instructions.\n",
       "</p>\n",
       "<p>\n",
       "  If you're reading this message in another frontend (for example, a static\n",
       "  rendering on GitHub or <a href=\"https://nbviewer.jupyter.org/\">NBViewer</a>),\n",
       "  it may mean that your frontend doesn't currently support widgets.\n",
       "</p>\n"
      ],
      "text/plain": [
       "QgridWidget(grid_options={'highlightSelectedRow': True, 'fullWidthRows': True, 'rowHeight': 28, 'enableColumnReorder': False, 'filterable': True, 'sortable': True, 'enableTextSelectionOnCells': True, 'editable': True, 'explicitInitialization': True, 'minVisibleRows': 8, 'autoEdit': False, 'syncColumnCellResize': True, 'maxVisibleRows': 15, 'defaultColumnWidth': 150, 'forceFitColumns': True, 'highlightSelectedCell': False}, precision=5)"
      ]
     },
     "metadata": {},
     "output_type": "display_data"
    }
   ],
   "source": [
    "# Convert duplicates to qgrid\n",
    "dup_grid = qgrid.QgridWidget(df=dup_df, show_toolbar=False)\n",
    "dup_grid"
   ]
  },
  {
   "cell_type": "code",
   "execution_count": 10,
   "metadata": {},
   "outputs": [
    {
     "data": {
      "application/vnd.jupyter.widget-view+json": {
       "model_id": "a243784b5a48415e82aedd3889663188",
       "version_major": 2,
       "version_minor": 0
      },
      "text/html": [
       "<p>Failed to display Jupyter Widget of type <code>QgridWidget</code>.</p>\n",
       "<p>\n",
       "  If you're reading this message in the Jupyter Notebook or JupyterLab Notebook, it may mean\n",
       "  that the widgets JavaScript is still loading. If this message persists, it\n",
       "  likely means that the widgets JavaScript library is either not installed or\n",
       "  not enabled. See the <a href=\"https://ipywidgets.readthedocs.io/en/stable/user_install.html\">Jupyter\n",
       "  Widgets Documentation</a> for setup instructions.\n",
       "</p>\n",
       "<p>\n",
       "  If you're reading this message in another frontend (for example, a static\n",
       "  rendering on GitHub or <a href=\"https://nbviewer.jupyter.org/\">NBViewer</a>),\n",
       "  it may mean that your frontend doesn't currently support widgets.\n",
       "</p>\n"
      ],
      "text/plain": [
       "QgridWidget(grid_options={'highlightSelectedRow': True, 'fullWidthRows': True, 'rowHeight': 28, 'enableColumnReorder': False, 'filterable': True, 'sortable': True, 'enableTextSelectionOnCells': True, 'editable': True, 'explicitInitialization': True, 'minVisibleRows': 8, 'autoEdit': False, 'syncColumnCellResize': True, 'maxVisibleRows': 15, 'defaultColumnWidth': 150, 'forceFitColumns': True, 'highlightSelectedCell': False}, precision=5)"
      ]
     },
     "metadata": {},
     "output_type": "display_data"
    }
   ],
   "source": [
    "# Convert chem to qgrid\n",
    "wc_grid = qgrid.QgridWidget(df=wc_df, show_toolbar=False)\n",
    "wc_grid"
   ]
  }
 ],
 "metadata": {
  "kernelspec": {
   "display_name": "Python 2",
   "language": "python",
   "name": "python2"
  },
  "language_info": {
   "codemirror_mode": {
    "name": "ipython",
    "version": 2
   },
   "file_extension": ".py",
   "mimetype": "text/x-python",
   "name": "python",
   "nbconvert_exporter": "python",
   "pygments_lexer": "ipython2",
   "version": "2.7.14"
  }
 },
 "nbformat": 4,
 "nbformat_minor": 2
}
