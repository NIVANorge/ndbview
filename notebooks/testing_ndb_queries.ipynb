{
 "cells": [
  {
   "cell_type": "code",
   "execution_count": null,
   "metadata": {},
   "outputs": [],
   "source": [
    "import sys\n",
    "import nivapy\n",
    "import qgrid\n",
    "import pandas as pd\n",
    "\n",
    "# Quick hack to import from relative folder\n",
    "sys.path.insert(0, '../ndbview')\n",
    "from ndbview import ndb_queries"
   ]
  },
  {
   "cell_type": "markdown",
   "metadata": {},
   "source": [
    "# Testing queries for NDBView\n",
    "\n",
    "`ndb_queries.py` contains functions used by the Flask end points in `ndbview.py` to query the NIVADATABASE. The code is structured so that, as far as possible, the application-specific code is all in `ndbview.py`, and `ndb_queries.py` provides a basic database API that can also be used from Jupyter. This is useful for testing, and will eventually be useful for [NivaPy](https://github.com/NIVANorge/nivapy) too.\n",
    "\n",
    "## 1. Connect to NIVADATABASE"
   ]
  },
  {
   "cell_type": "code",
   "execution_count": null,
   "metadata": {},
   "outputs": [],
   "source": [
    "# Connect to db\n",
    "ora_eng = nivapy.da.connect()"
   ]
  },
  {
   "cell_type": "markdown",
   "metadata": {},
   "source": [
    "## 2. User defined parameters"
   ]
  },
  {
   "cell_type": "code",
   "execution_count": null,
   "metadata": {},
   "outputs": [],
   "source": [
    "# Period of interest\n",
    "st_dt = '1900-01-01'\n",
    "end_dt = '2018-12-31'\n",
    "\n",
    "# Include LOD flags ('<' or '>') in output?\n",
    "lod_flags = False"
   ]
  },
  {
   "cell_type": "markdown",
   "metadata": {},
   "source": [
    "Now complete **either** step 3.1 to query by projects, or skip ahead to step 3.2 to query the stations directly. **Choose either step 3.1 *or* step 3.2, not both**.\n",
    "\n",
    "## 3.1. Query by project\n",
    "\n",
    "### 3.1.1. Select projects of interest"
   ]
  },
  {
   "cell_type": "code",
   "execution_count": null,
   "metadata": {},
   "outputs": [],
   "source": [
    "# List projects\n",
    "prj_df = ndb_queries.get_all_projects(ora_eng)\n",
    "\n",
    "# Convert to qgrid\n",
    "prj_grid = qgrid.QgridWidget(df=prj_df, show_toolbar=False)\n",
    "prj_grid"
   ]
  },
  {
   "cell_type": "code",
   "execution_count": null,
   "metadata": {},
   "outputs": [],
   "source": [
    "# Show selected projects\n",
    "sel_prj = prj_grid.get_selected_df()\n",
    "sel_prj"
   ]
  },
  {
   "cell_type": "markdown",
   "metadata": {},
   "source": [
    "### 3.1.2. Get stations for selected project(s)"
   ]
  },
  {
   "cell_type": "code",
   "execution_count": null,
   "metadata": {},
   "outputs": [],
   "source": [
    "# Get stations for selected project\n",
    "sel_prj_ids = sel_prj[['project_id']].copy()\n",
    "sel_prj_ids.columns = ['id',]\n",
    "stn_df = ndb_queries.get_project_stations(sel_prj_ids, ora_eng)\n",
    "\n",
    "# Convert to qgrid\n",
    "stn_grid = qgrid.QgridWidget(df=stn_df, show_toolbar=False)\n",
    "\n",
    "print 'Number of unique station IDs:', len(stn_df)\n",
    "stn_grid"
   ]
  },
  {
   "cell_type": "markdown",
   "metadata": {},
   "source": [
    "### 3.1.3. Refine station selection\n",
    "\n",
    "If desired, make a final sub-selection of the stations of interest (or select none to include all stations for these projects)."
   ]
  },
  {
   "cell_type": "code",
   "execution_count": null,
   "metadata": {},
   "outputs": [],
   "source": [
    "# Get selected stations\n",
    "if len(stn_grid.get_selected_df()) == 0:\n",
    "    sel_stn = stn_df\n",
    "else:\n",
    "    sel_stn = stn_grid.get_selected_df()\n",
    "\n",
    "print 'Number of stations selected:', len(sel_stn)\n",
    "sel_stn"
   ]
  },
  {
   "cell_type": "markdown",
   "metadata": {},
   "source": [
    "## 3.2. Select stations directly\n",
    "\n",
    "This section is only relevant if you skipped over section 3.1."
   ]
  },
  {
   "cell_type": "code",
   "execution_count": null,
   "metadata": {},
   "outputs": [],
   "source": [
    "# List stations\n",
    "stn_df = ndb_queries.get_all_stations(ora_eng)\n",
    "\n",
    "# Convert to qgrid\n",
    "stn_grid = qgrid.QgridWidget(df=stn_df, show_toolbar=False)\n",
    "stn_grid"
   ]
  },
  {
   "cell_type": "code",
   "execution_count": null,
   "metadata": {},
   "outputs": [],
   "source": [
    "# Show selected stations\n",
    "sel_stn = stn_grid.get_selected_df()\n",
    "sel_stn"
   ]
  },
  {
   "cell_type": "markdown",
   "metadata": {},
   "source": [
    "## 4. Get parameters for selected stations and time period"
   ]
  },
  {
   "cell_type": "code",
   "execution_count": null,
   "metadata": {},
   "outputs": [],
   "source": [
    "# Get parameters\n",
    "sel_stn_ids = sel_stn[['station_id']].copy()\n",
    "sel_stn_ids.columns = ['id',]\n",
    "par_df = ndb_queries.get_station_parameters2(sel_stn_ids, st_dt, end_dt, ora_eng)\n",
    "\n",
    "# Convert to qgrid\n",
    "par_grid = qgrid.QgridWidget(df=par_df, show_toolbar=False)\n",
    "\n",
    "print '%s parameters available.' % len(par_df)\n",
    "par_grid"
   ]
  },
  {
   "cell_type": "code",
   "execution_count": null,
   "metadata": {},
   "outputs": [],
   "source": [
    "# Show selected parameters\n",
    "sel_par = par_grid.get_selected_df()\n",
    "sel_par"
   ]
  },
  {
   "cell_type": "markdown",
   "metadata": {},
   "source": [
    "## 5. Get water chemistry"
   ]
  },
  {
   "cell_type": "code",
   "execution_count": null,
   "metadata": {},
   "outputs": [],
   "source": [
    "# Get water chemsitry\n",
    "sel_stn_ids.columns = ['stns',]\n",
    "sel_par_ids = sel_par[['parameter_id']].copy()\n",
    "sel_par_ids.columns = ['pars',]\n",
    "wc_df, dup_df = ndb_queries.get_chemistry_values2(sel_stn_ids, sel_par_ids, \n",
    "                                                  st_dt, end_dt, \n",
    "                                                  lod_flags, ora_eng)\n",
    "\n",
    "print 'Number of duplicated records:', len(dup_df)\n",
    "print 'Number of unique samples:', len(wc_df)"
   ]
  },
  {
   "cell_type": "code",
   "execution_count": null,
   "metadata": {},
   "outputs": [],
   "source": [
    "# Convert duplicates to qgrid\n",
    "dup_grid = qgrid.QgridWidget(df=dup_df, show_toolbar=False)\n",
    "dup_grid"
   ]
  },
  {
   "cell_type": "code",
   "execution_count": null,
   "metadata": {},
   "outputs": [],
   "source": [
    "# Convert chem to qgrid\n",
    "wc_grid = qgrid.QgridWidget(df=wc_df, show_toolbar=False)\n",
    "wc_grid"
   ]
  },
  {
   "cell_type": "code",
   "execution_count": null,
   "metadata": {},
   "outputs": [],
   "source": [
    "import numpy as np"
   ]
  },
  {
   "cell_type": "code",
   "execution_count": null,
   "metadata": {},
   "outputs": [],
   "source": [
    "def interpolate_water_chemistry(wc_df, freq='D', agg_stat='mean', \n",
    "                                interp_type='linear', interp_limit=None):\n",
    "    \"\"\" Interpolate water chemistry data to a regular frequency.\n",
    "    \n",
    "        Performs interpolation for each unique station-sample depth \n",
    "        combination in wc_df. Each sub-dataset is first resampled to the\n",
    "        specified (regular) frequency by applying the function supplied as\n",
    "        'agg_stat'. The resampled dataframe is then interpolated using\n",
    "        'interp_type'.\n",
    "        \n",
    "        For example, if wc_df contains data for a single station, but from\n",
    "        two different depths, the series for each depth will be treated\n",
    "        separately. Specifying freq='M', agg_stat='sum', interp_type='cubic'\n",
    "        and interp_limit=6 will do the following:\n",
    "        \n",
    "            1. Resample the data from each depth to a regular monthly series \n",
    "               by summing all values within each month\n",
    "               \n",
    "            2. Interpolate values for months with no data using cubic splines.\n",
    "               Data gaps of greater than 6 months will be left unfilled.\n",
    "               \n",
    "        Args:\n",
    "            wc_df:        Dataframe. Water chemistry returned by \n",
    "                          get_chemistry_values2()\n",
    "            freq:         Str. {'D':daily, \n",
    "                                'M':monthly,\n",
    "                                'Q-NOV':seasonal,\n",
    "                                'A':annual}\n",
    "            agg_stat:     Str. One of ('mean', 'median', 'sum')\n",
    "            interp_type:  Str. One of ('nearest', 'linear', 'cubic', 'quadratic')\n",
    "            interp_limit: Int. The maximum data gap (number of steps at the \n",
    "                          resampled frequency) to interpolate over\n",
    "        \n",
    "        Returns:\n",
    "            Dataframe of interpolated values for each station-depth combination        \n",
    "    \"\"\"\n",
    "    # Check user input\n",
    "    assert freq in ('D', 'M', 'Q-NOV', 'A'), (\n",
    "           \"'freq' argument is not valid.\")\n",
    "    assert agg_stat in ('mean', 'median', 'sum'), (\n",
    "           \"'agg_stat' argument is not valid.\")\n",
    "    assert interp_type in ('nearest', 'linear', 'cubic', 'quadratic'), (\n",
    "           \"'interp_type' argument not valid.\")\n",
    "    assert (isinstance(interp_limit, int) or interp_limit == None), (\n",
    "           \"'interp_limit' must be an integer number of steps.\")\n",
    "\n",
    "    # Container for data\n",
    "    df_list = []\n",
    "\n",
    "    # Get depth groups\n",
    "    depth_grps = wc_df.groupby(['depth1', 'depth2']).groups.keys()\n",
    "\n",
    "    # treat each station and depth combo separately\n",
    "    for dep1, dep2 in depth_grps:\n",
    "        for stn_id in wc_df['station_id'].unique():\n",
    "            # Get the stn data\n",
    "            df = wc_df.query('(station_id == @stn_id) and '\n",
    "                             '(depth1 == @dep1) and '\n",
    "                             '(depth2 == @dep2)')\n",
    "\n",
    "            # If not emoty df\n",
    "            if len(df) > 0:\n",
    "                # Remove cols we don't want to aggregate\n",
    "                del df['station_id'], df['depth1'], df['depth2']\n",
    "                \n",
    "                # Set index\n",
    "                df.set_index('sample_date', inplace=True)\n",
    "\n",
    "                # Resample\n",
    "                if agg_stat == 'mean':\n",
    "                    df = df.resample(freq).mean().to_period()\n",
    "                elif agg_stat == 'median':\n",
    "                    df = df.resample(freq).median().to_period()\n",
    "                elif agg_stat == 'sum':\n",
    "                    df = df.resample(freq).sum().to_period()\n",
    "                else:\n",
    "                    raise ValueError(\"'agg_stat' must be one of \"\n",
    "                                     \"('mean', 'median', or 'sum')\")\n",
    "\n",
    "                # Interpolate\n",
    "                if len(df) > 1:\n",
    "                    df.interpolate(method=interp_type, \n",
    "                                   limit=interp_limit, \n",
    "                                   inplace=True)\n",
    "\n",
    "                # Add index cols again\n",
    "                df['station_id'] = stn_id\n",
    "                df['depth1'] = dep1\n",
    "                df['depth2'] = dep2\n",
    "                \n",
    "                # Tidy\n",
    "                df.reset_index(inplace=True)\n",
    "                cols1 = ['station_id', 'sample_date', 'depth1', 'depth2']\n",
    "                cols2 = [col for col in df.columns if col not in cols1]\n",
    "                df = df[cols1 + cols2]\n",
    "\n",
    "                # Add to output\n",
    "                df_list.append(df)\n",
    "\n",
    "    # Combine results\n",
    "    df = pd.concat(df_list, axis=0)\n",
    "    df.reset_index(inplace=True)\n",
    "\n",
    "    return df"
   ]
  },
  {
   "cell_type": "code",
   "execution_count": null,
   "metadata": {},
   "outputs": [],
   "source": [
    "# Interpolate\n",
    "df = interpolate_water_chemistry(wc_df, freq='A', agg_stat='median', \n",
    "                                 interp_type='cubic', interp_limit=None)\n",
    "\n",
    "# Convert duplicates to qgrid\n",
    "interp_grid = qgrid.QgridWidget(df=df, show_toolbar=False)\n",
    "interp_grid"
   ]
  }
 ],
 "metadata": {
  "kernelspec": {
   "display_name": "Python 2",
   "language": "python",
   "name": "python2"
  },
  "language_info": {
   "codemirror_mode": {
    "name": "ipython",
    "version": 2
   },
   "file_extension": ".py",
   "mimetype": "text/x-python",
   "name": "python",
   "nbconvert_exporter": "python",
   "pygments_lexer": "ipython2",
   "version": "2.7.14"
  }
 },
 "nbformat": 4,
 "nbformat_minor": 2
}
